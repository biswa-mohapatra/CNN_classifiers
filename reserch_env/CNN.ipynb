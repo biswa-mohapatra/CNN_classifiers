{
 "cells": [
  {
   "cell_type": "code",
   "execution_count": 1,
   "id": "9619c76c",
   "metadata": {},
   "outputs": [],
   "source": [
    "import tensorflow as tf\n",
    "import os "
   ]
  },
  {
   "cell_type": "code",
   "execution_count": 2,
   "id": "39c6750c",
   "metadata": {},
   "outputs": [
    {
     "name": "stdout",
     "output_type": "stream",
     "text": [
      "Collecting tqdm\n",
      "  Using cached tqdm-4.64.0-py2.py3-none-any.whl (78 kB)\n",
      "Requirement already satisfied: colorama in d:\\data science\\deep learning\\cnn_classifiers\\env\\lib\\site-packages (from tqdm) (0.4.4)\n",
      "Installing collected packages: tqdm\n",
      "Successfully installed tqdm-4.64.0\n"
     ]
    }
   ],
   "source": [
    "# !pip install tqdm"
   ]
  },
  {
   "cell_type": "code",
   "execution_count": 5,
   "id": "d1c5730e",
   "metadata": {},
   "outputs": [],
   "source": [
    "from tqdm import tqdm\n",
    "from urllib import request as req"
   ]
  },
  {
   "cell_type": "code",
   "execution_count": 19,
   "id": "cf884283",
   "metadata": {},
   "outputs": [],
   "source": [
    "SOURCE_DATA_URL = \"https://download.microsoft.com/download/3/E/1/3E1C3F21-ECDB-4869-8368-6DEBA77B919F/kagglecatsanddogs_5340.zip\"\n",
    "\n",
    "DESTINATION = \"data\"\n",
    "data_file = \"data.zip\"\n",
    "os.makedirs(DESTINATION,exist_ok=True)\n",
    "DESTINATION_ZIP_PATH = os.path.join(DESTINATION,data_file)"
   ]
  },
  {
   "cell_type": "code",
   "execution_count": 20,
   "id": "b9f332d5",
   "metadata": {},
   "outputs": [],
   "source": [
    "file_name,headers=req.urlretrieve(SOURCE_DATA_URL,DESTINATION_ZIP_PATH)"
   ]
  },
  {
   "cell_type": "code",
   "execution_count": 21,
   "id": "731e17ff",
   "metadata": {},
   "outputs": [
    {
     "data": {
      "text/plain": [
       "'data\\\\data.zip'"
      ]
     },
     "execution_count": 21,
     "metadata": {},
     "output_type": "execute_result"
    }
   ],
   "source": [
    "file_name"
   ]
  },
  {
   "cell_type": "code",
   "execution_count": 23,
   "id": "0606e5ef",
   "metadata": {},
   "outputs": [
    {
     "name": "stdout",
     "output_type": "stream",
     "text": [
      "Content-Type: application/octet-stream\n",
      "Accept-Ranges: bytes\n",
      "Server: Windows-Azure-Blob/1.0 Microsoft-HTTPAPI/2.0\n",
      "x-ms-blob-content-md5: 4TekUHNw2UJGm20meiTqBA==\n",
      "Last-Modified: Mon, 09 May 2022 20:42:07 GMT\n",
      "ETag: \"0x8DA31FC621E01C4\"\n",
      "Content-Length: 824887076\n",
      "Date: Thu, 12 May 2022 14:02:34 GMT\n",
      "Connection: close\n",
      "\n",
      "\n"
     ]
    }
   ],
   "source": [
    "print(headers)"
   ]
  },
  {
   "cell_type": "code",
   "execution_count": null,
   "id": "817b73ef",
   "metadata": {},
   "outputs": [],
   "source": []
  }
 ],
 "metadata": {
  "kernelspec": {
   "display_name": "Python 3 (ipykernel)",
   "language": "python",
   "name": "python3"
  },
  "language_info": {
   "codemirror_mode": {
    "name": "ipython",
    "version": 3
   },
   "file_extension": ".py",
   "mimetype": "text/x-python",
   "name": "python",
   "nbconvert_exporter": "python",
   "pygments_lexer": "ipython3",
   "version": "3.7.13"
  }
 },
 "nbformat": 4,
 "nbformat_minor": 5
}
